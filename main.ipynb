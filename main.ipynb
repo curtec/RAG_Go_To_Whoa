{
 "cells": [
  {
   "cell_type": "markdown",
   "metadata": {},
   "source": [
    "# Welcome to RAG - Go To Whoa"
   ]
  },
  {
   "cell_type": "markdown",
   "metadata": {},
   "source": [
    "## RAG (Retrieval Augmented Generation)\n",
    "A technology that enhances the capabilities of AI language models. It combines two approaches:\n",
    "\n",
    "Retrieval: \n",
    "\n",
    "Quickly searching a vast database to find relevant information.\n",
    "\n",
    "Generation:\n",
    "\n",
    "Using AI to create new text based on that information.\n",
    "RAG enables AI models to produce more accurate, informative, and up-to-date responses by retrieving relevant data and incorporating it into the generated text. This leads to more reliable and helpful outputs, especially for tasks like answering questions, summarizing text, or generating content. RAG is a powerful tool for improving AI language understanding and generation capabilities."
   ]
  },
  {
   "cell_type": "markdown",
   "metadata": {},
   "source": [
    "youtube tutorial:\n",
    "https://www.youtube.com/watch?v=qN_2fnOPY-M&list=PLkEoNV6qgRDt3KJvRaE31UIHXgwTQVmrC&index=13"
   ]
  },
  {
   "cell_type": "markdown",
   "metadata": {},
   "source": [
    "## Install requirements"
   ]
  },
  {
   "cell_type": "markdown",
   "metadata": {},
   "source": [
    "!pip install -q torch"
   ]
  },
  {
   "cell_type": "markdown",
   "metadata": {},
   "source": [
    "# Text processing\n",
    "* Import text\n",
    "* Process for embedings\n",
    "* Embed prepared text\n",
    "* Save to vector store"
   ]
  }
 ],
 "metadata": {
  "kernelspec": {
   "display_name": "venv",
   "language": "python",
   "name": "python3"
  },
  "language_info": {
   "codemirror_mode": {
    "name": "ipython",
    "version": 3
   },
   "file_extension": ".py",
   "mimetype": "text/x-python",
   "name": "python",
   "nbconvert_exporter": "python",
   "pygments_lexer": "ipython3",
   "version": "3.10.4"
  }
 },
 "nbformat": 4,
 "nbformat_minor": 2
}
